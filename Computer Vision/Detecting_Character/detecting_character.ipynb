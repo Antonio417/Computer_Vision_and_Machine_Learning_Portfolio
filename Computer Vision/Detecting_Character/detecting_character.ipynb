{
 "cells": [
  {
   "cell_type": "markdown",
   "id": "34522254",
   "metadata": {},
   "source": [
    "## Simpson Character Classifier"
   ]
  },
  {
   "cell_type": "markdown",
   "id": "e0a4b28a",
   "metadata": {},
   "source": [
    "### The dataset are accessible through\n",
    "https://www.kaggle.com/datasets/alexattia/the-simpsons-characters-dataset\n"
   ]
  },
  {
   "cell_type": "markdown",
   "id": "f90a642b",
   "metadata": {},
   "source": [
    "### Aim: Build a CNN model that could accurately identify character's name inside an image. Challenges arise in this project mainly comes from the randomness of the dataset where for each character, they are presented in a variety of situations with different backgrounds, different angles, etc."
   ]
  },
  {
   "cell_type": "code",
   "execution_count": null,
   "id": "2e1dc08a",
   "metadata": {},
   "outputs": [],
   "source": []
  }
 ],
 "metadata": {
  "kernelspec": {
   "display_name": "Python 3 (ipykernel)",
   "language": "python",
   "name": "python3"
  },
  "language_info": {
   "codemirror_mode": {
    "name": "ipython",
    "version": 3
   },
   "file_extension": ".py",
   "mimetype": "text/x-python",
   "name": "python",
   "nbconvert_exporter": "python",
   "pygments_lexer": "ipython3",
   "version": "3.9.7"
  }
 },
 "nbformat": 4,
 "nbformat_minor": 5
}
