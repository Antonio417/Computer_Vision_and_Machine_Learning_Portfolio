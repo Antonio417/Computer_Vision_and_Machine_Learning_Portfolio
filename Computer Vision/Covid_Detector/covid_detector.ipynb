{
 "cells": [
  {
   "attachments": {},
   "cell_type": "markdown",
   "metadata": {},
   "source": [
    "# Covid-19 Detector "
   ]
  },
  {
   "cell_type": "code",
   "execution_count": 1,
   "metadata": {},
   "outputs": [
    {
     "ename": "",
     "evalue": "",
     "output_type": "error",
     "traceback": [
      "\u001b[1;31mThe Kernel crashed while executing code in the the current cell or a previous cell. Please review the code in the cell(s) to identify a possible cause of the failure. Click <a href='https://aka.ms/vscodeJupyterKernelCrash'>here</a> for more info. View Jupyter <a href='command:jupyter.viewOutput'>log</a> for further details."
     ]
    },
    {
     "ename": "",
     "evalue": "",
     "output_type": "error",
     "traceback": [
      "\u001b[1;31mCanceled future for execute_request message before replies were done"
     ]
    }
   ],
   "source": [
    "# For deeplearning\n",
    "import tensorflow as tf       \n",
    "from tensorflow import keras \n",
    "from keras.utils.np_utils import to_categorical \n",
    "from tensorflow.keras.preprocessing.image import ImageDataGenerator \n",
    "from tensorflow.keras.models import Model\n",
    "from tensorflow.keras.preprocessing.image import img_to_array\n",
    "from tensorflow.keras.preprocessing.image import load_img\n",
    "# For managing files   \n",
    "import os\n",
    "# For image manipulation\n",
    "from PIL import Image\n",
    "import cv2\n",
    "import imutils\n",
    "# Vectorized code, translate images into vector arrays\n",
    "import numpy as np\n",
    "# Data processing, confusion matrix and classification report\n",
    "from sklearn.model_selection import train_test_split\n",
    "from sklearn.preprocessing import LabelEncoder \n",
    "from sklearn.metrics import confusion_matrix \n",
    "from sklearn.metrics import classification_report\n",
    "# For visualization and image display\n",
    "import matplotlib.pyplot as plt\n",
    "import cv2\n",
    "import imutils\n",
    "from google.colab.patches import cv2_imshow\n",
    "# Utilities\n",
    "from collections import Counter\n",
    "import copy\n",
    "import random"
   ]
  },
  {
   "cell_type": "code",
   "execution_count": null,
   "metadata": {},
   "outputs": [],
   "source": [
    "def dict_labels(path):\n",
    "    '''Returns a dictionary with the name of the picture and the appropriate labels'''\n",
    "    with open(path) as f:\n",
    "        lines = f.readlines()\n",
    "    split_lines = [line.split() for line in lines]\n",
    "\n",
    "    return {split_line[1]:split_line[2] for split_line in split_lines}\n",
    "\n",
    "def load_colorize_images(path, path_doc, image_size=(112,112)): \n",
    "    '''Returns two arrays: one with the pseudo-colorized images and another one with the output labels'''\n",
    "\n",
    "    data = []\n",
    "    titles = []\n",
    "\n",
    "    for file in os.listdir(path):\n",
    "        path_file = path + '/' + file\n",
    "        img = cv2.imread(path_file,0)\n",
    "        img = cv2.resize(img, image_size)\n",
    "        img = cv2.applyColorMap(img, cv2.COLORMAP_BONE)\n",
    "        img = (img/255).astype(np.float32)\n",
    "        data.append(img)\n",
    "        titles.append(file) \n",
    "\n",
    "    dict_data_labels = dict_labels(path_doc)\n",
    "\n",
    "    return np.array(data), np.array([dict_data_labels[title] \n",
    "                                     for title in titles])\n"
   ]
  }
 ],
 "metadata": {
  "kernelspec": {
   "display_name": "Python 3",
   "language": "python",
   "name": "python3"
  },
  "language_info": {
   "codemirror_mode": {
    "name": "ipython",
    "version": 3
   },
   "file_extension": ".py",
   "mimetype": "text/x-python",
   "name": "python",
   "nbconvert_exporter": "python",
   "pygments_lexer": "ipython3",
   "version": "3.9.15"
  },
  "orig_nbformat": 4,
  "vscode": {
   "interpreter": {
    "hash": "7bf8643c3095617b208d459401617242937aa2398ffc2ec3e9e462b053343293"
   }
  }
 },
 "nbformat": 4,
 "nbformat_minor": 2
}
