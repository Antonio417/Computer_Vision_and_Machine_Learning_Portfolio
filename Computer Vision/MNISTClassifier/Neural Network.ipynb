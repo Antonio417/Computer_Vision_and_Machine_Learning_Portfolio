{
 "cells": [
  {
   "cell_type": "code",
   "execution_count": 1,
   "id": "736e470a",
   "metadata": {},
   "outputs": [],
   "source": [
    "import tensorflow as tf\n",
    "from tensorflow import keras\n",
    "import numpy as np\n",
    "import matplotlib.pyplot as plt"
   ]
  },
  {
   "cell_type": "code",
   "execution_count": 2,
   "id": "724cf5fa",
   "metadata": {},
   "outputs": [
    {
     "name": "stdout",
     "output_type": "stream",
     "text": [
      "(60000, 28, 28) (60000,)\n"
     ]
    }
   ],
   "source": [
    "mnist = keras.datasets.mnist\n",
    "(x_train,y_train), (x_test,y_test) = mnist.load_data()\n",
    "print(x_train.shape, y_train.shape) # 60000 training images"
   ]
  },
  {
   "cell_type": "markdown",
   "id": "2275535f",
   "metadata": {},
   "source": [
    "# Normalize Data and Plot Raw Data"
   ]
  },
  {
   "cell_type": "code",
   "execution_count": 3,
   "id": "2a7d031a",
   "metadata": {},
   "outputs": [
    {
     "data": {
      "image/png": "[encoded data removed]",
      "text/plain": [
       "<Figure size 432x288 with 10 Axes>"
      ]
     },
     "metadata": {
      "needs_background": "light"
     },
     "output_type": "display_data"
    }
   ],
   "source": [
    "# Then we normalize the data from 0 to 255 become 0 to 1\n",
    "x_train,x_test = x_train/255.0, x_test/255.0\n",
    "\n",
    "for i in range(10):\n",
    "    plt.subplot(2,5,i+1)\n",
    "    plt.imshow(x_train[i],cmap='gray')\n",
    "plt.show()"
   ]
  },
  {
   "cell_type": "markdown",
   "id": "1ce8c783",
   "metadata": {},
   "source": [
    "# Building the Model"
   ]
  },
  {
   "cell_type": "code",
   "execution_count": 4,
   "id": "ee9de553",
   "metadata": {},
   "outputs": [
    {
     "name": "stdout",
     "output_type": "stream",
     "text": [
      "Model: \"sequential\"\n",
      "_________________________________________________________________\n",
      "Layer (type)                 Output Shape              Param #   \n",
      "=================================================================\n",
      "flatten (Flatten)            (None, 784)               0         \n",
      "_________________________________________________________________\n",
      "dense (Dense)                (None, 256)               200960    \n",
      "_________________________________________________________________\n",
      "dense_1 (Dense)              (None, 10)                2570      \n",
      "=================================================================\n",
      "Total params: 203,530\n",
      "Trainable params: 203,530\n",
      "Non-trainable params: 0\n",
      "_________________________________________________________________\n",
      "None\n"
     ]
    }
   ],
   "source": [
    "model = keras.models.Sequential([\n",
    "    keras.layers.Flatten(input_shape = (28,28)), # Flatten our images matrix to a single array\n",
    "    keras.layers.Dense(256,activation='relu'), # The Fully connected layer\n",
    "    keras.layers.Dense(10) # We have 10 classes for the 10 digits from 0 to 9   \n",
    "])\n",
    "\n",
    "print(model.summary())"
   ]
  },
  {
   "cell_type": "markdown",
   "id": "90c1421b",
   "metadata": {},
   "source": [
    "# Building the Loss and Optimizer"
   ]
  },
  {
   "cell_type": "code",
   "execution_count": 5,
   "id": "3a91868c",
   "metadata": {},
   "outputs": [],
   "source": [
    "loss = keras.losses.SparseCategoricalCrossentropy(from_logits=True) \n",
    "# This is because y is an integer class label not one hot encoded\n",
    "# logits is true because Softmax function has not been applied to them\n",
    "optim = keras.optimizers.Adam(lr=0.001)\n",
    "metrics = [\"accuracy\"]\n",
    "model.compile(loss=loss,optimizer=optim,metrics=metrics)\n"
   ]
  },
  {
   "cell_type": "markdown",
   "id": "e2aa7a9d",
   "metadata": {},
   "source": [
    "# Training the Model"
   ]
  },
  {
   "cell_type": "code",
   "execution_count": 6,
   "id": "adbe3d59",
   "metadata": {},
   "outputs": [
    {
     "name": "stdout",
     "output_type": "stream",
     "text": [
      "Train on 60000 samples\n",
      "Epoch 1/5\n",
      "60000/60000 - 6s - loss: 0.2594 - accuracy: 0.9252\n",
      "Epoch 2/5\n",
      "60000/60000 - 5s - loss: 0.1093 - accuracy: 0.9675\n",
      "Epoch 3/5\n",
      "60000/60000 - 5s - loss: 0.0715 - accuracy: 0.9788\n",
      "Epoch 4/5\n",
      "60000/60000 - 5s - loss: 0.0523 - accuracy: 0.9841\n",
      "Epoch 5/5\n",
      "60000/60000 - 5s - loss: 0.0393 - accuracy: 0.9882\n"
     ]
    },
    {
     "data": {
      "text/plain": [
       "<tensorflow.python.keras.callbacks.History at 0x7fdb71050ba8>"
      ]
     },
     "execution_count": 6,
     "metadata": {},
     "output_type": "execute_result"
    }
   ],
   "source": [
    "batch_size = 64\n",
    "epochs = 5 # 5 Full iteration over the sample\n",
    "model.fit(x_train,y_train, batch_size=batch_size,epochs=epochs,shuffle=True,verbose=2)\n",
    "# verbose is what we see while training the model\n",
    "# verbose = 2 will show the number of epochs"
   ]
  },
  {
   "cell_type": "markdown",
   "id": "ec83d3c2",
   "metadata": {},
   "source": [
    "# Evaluating the Model"
   ]
  },
  {
   "cell_type": "code",
   "execution_count": 7,
   "id": "5c996d24",
   "metadata": {},
   "outputs": [
    {
     "name": "stdout",
     "output_type": "stream",
     "text": [
      "10000/1 - 0s - loss: 0.0382 - accuracy: 0.9765\n"
     ]
    },
    {
     "data": {
      "text/plain": [
       "[0.07470912002660333, 0.9765]"
      ]
     },
     "execution_count": 7,
     "metadata": {},
     "output_type": "execute_result"
    }
   ],
   "source": [
    "model.evaluate(x_test,y_test,batch_size=batch_size,verbose=2)"
   ]
  },
  {
   "cell_type": "markdown",
   "id": "8ec201a7",
   "metadata": {},
   "source": [
    "# Making Predictions"
   ]
  },
  {
   "cell_type": "code",
   "execution_count": 11,
   "id": "1544e955",
   "metadata": {},
   "outputs": [
    {
     "name": "stdout",
     "output_type": "stream",
     "text": [
      "[7 2 1 0 4 1 4 9 5 9]\n"
     ]
    }
   ],
   "source": [
    "# To make predictions we need the Softmax Layer\n",
    "predictions = model.predict(x_test,batch_size=batch_size)\n",
    "predictions = tf.nn.softmax(predictions)\n",
    "pred10 = predictions[0:10]\n",
    "label10 = np.argmax(pred10, axis=1)\n",
    "print(label10)"
   ]
  },
  {
   "cell_type": "code",
   "execution_count": null,
   "id": "201e9c4b",
   "metadata": {},
   "outputs": [],
   "source": []
  }
 ],
 "metadata": {
  "kernelspec": {
   "display_name": "Python 3",
   "language": "python",
   "name": "python3"
  },
  "language_info": {
   "codemirror_mode": {
    "name": "ipython",
    "version": 3
   },
   "file_extension": ".py",
   "mimetype": "text/x-python",
   "name": "python",
   "nbconvert_exporter": "python",
   "pygments_lexer": "ipython3",
   "version": "3.6.13"
  }
 },
 "nbformat": 4,
 "nbformat_minor": 5
}
