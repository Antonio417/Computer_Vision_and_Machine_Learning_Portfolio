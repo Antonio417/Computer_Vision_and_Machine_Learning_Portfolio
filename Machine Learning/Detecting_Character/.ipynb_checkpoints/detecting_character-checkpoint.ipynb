{
 "cells": [
  {
   "cell_type": "markdown",
   "id": "34522254",
   "metadata": {},
   "source": [
    "## Simpson Character Classifier"
   ]
  },
  {
   "cell_type": "markdown",
   "id": "e0a4b28a",
   "metadata": {},
   "source": [
    "The dataset are accessible through\n",
    "https://www.kaggle.com/datasets/alexattia/the-simpsons-characters-dataset\n"
   ]
  },
  {
   "cell_type": "markdown",
   "id": "f90a642b",
   "metadata": {},
   "source": [
    "Aim: Build a CNN model that could accurately identify character's name inside an image. Challenges arise in this project mainly comes from the randomness of the dataset where for each character, they are presented in a variety of situations with different backgrounds, different angles, etc."
   ]
  },
  {
   "cell_type": "code",
   "execution_count": 1,
   "id": "2e1dc08a",
   "metadata": {},
   "outputs": [
    {
     "name": "stderr",
     "output_type": "stream",
     "text": [
      "Using TensorFlow backend.\n"
     ]
    }
   ],
   "source": [
    "# For deeplearning\n",
    "import tensorflow as tf       \n",
    "from tensorflow import keras \n",
    "from keras.utils.np_utils import to_categorical \n",
    "from tensorflow.keras.preprocessing.image import ImageDataGenerator  \n",
    "# Vectorized code, translate images into vector arrays\n",
    "import numpy as np            \n",
    "# For data visualization\n",
    "import matplotlib.pyplot as plt  \n",
    "# For managing files         \n",
    "import os            \n",
    "# Translates images into numbers\n",
    "from PIL import Image             \n",
    "# Data processing, confusion matrix and classification report\n",
    "from sklearn.model_selection import train_test_split \n",
    "from sklearn.preprocessing import LabelEncoder \n",
    "from sklearn.metrics import confusion_matrix \n",
    "from sklearn.metrics import classification_report\n",
    "# Utilities\n",
    "import copy \n",
    "import itertools "
   ]
  },
  {
   "cell_type": "markdown",
   "id": "73ae0aa5",
   "metadata": {},
   "source": [
    "## Loading Data"
   ]
  },
  {
   "cell_type": "code",
   "execution_count": null,
   "id": "981148b3",
   "metadata": {},
   "outputs": [],
   "source": []
  }
 ],
 "metadata": {
  "kernelspec": {
   "display_name": "Python 3 (ipykernel)",
   "language": "python",
   "name": "python3"
  },
  "language_info": {
   "codemirror_mode": {
    "name": "ipython",
    "version": 3
   },
   "file_extension": ".py",
   "mimetype": "text/x-python",
   "name": "python",
   "nbconvert_exporter": "python",
   "pygments_lexer": "ipython3",
   "version": "3.7.10"
  }
 },
 "nbformat": 4,
 "nbformat_minor": 5
}
