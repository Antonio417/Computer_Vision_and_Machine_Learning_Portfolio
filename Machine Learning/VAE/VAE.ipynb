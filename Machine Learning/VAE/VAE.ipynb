{
 "cells": [
  {
   "cell_type": "markdown",
   "id": "75ae5f81",
   "metadata": {},
   "source": [
    "# Variational Autoencoder"
   ]
  },
  {
   "cell_type": "code",
   "execution_count": 1,
   "id": "4a6e6fd8",
   "metadata": {},
   "outputs": [
    {
     "name": "stderr",
     "output_type": "stream",
     "text": [
      "Using TensorFlow backend.\n"
     ]
    }
   ],
   "source": [
    "import numpy as np\n",
    "import pandas as pd\n",
    "import matplotlib.pyplot as plt\n",
    "import seaborn as sns\n",
    "import random\n",
    "\n",
    "from scipy.stats import norm\n",
    "\n",
    "import keras\n",
    "from keras import backend as k\n",
    "k.clear_session()"
   ]
  },
  {
   "cell_type": "code",
   "execution_count": 2,
   "id": "bc2d56c2",
   "metadata": {},
   "outputs": [],
   "source": [
    "# Set Parameter\n",
    "image_shape = (28,28,1)\n",
    "batch_size = 64\n",
    "latent_dim = 10\n",
    "epoch = 30"
   ]
  },
  {
   "cell_type": "code",
   "execution_count": 3,
   "id": "25dec047",
   "metadata": {},
   "outputs": [],
   "source": [
    "# Import MNIST dataset\n",
    "(x_train, y_train), (x_test,y_test) = keras.datasets.mnist.load_data()"
   ]
  },
  {
   "cell_type": "code",
   "execution_count": 4,
   "id": "55141fe3",
   "metadata": {},
   "outputs": [],
   "source": [
    "# Change datatype and reshape data\n",
    "x_train = x_train.astype('float32') / 255.\n",
    "x_train = x_train.reshape((x_train.shape[0],) + image_shape)\n",
    "x_test = x_test.astype('float32') / 255.\n",
    "x_test = x_test.reshape((x_test.shape[0],) + image_shape)"
   ]
  },
  {
   "cell_type": "code",
   "execution_count": 5,
   "id": "7c6dc77d",
   "metadata": {},
   "outputs": [],
   "source": [
    "# This function will give us 10 labelled handwritten images from 0-9 \n",
    "def get_10_image(x_train,y_train):\n",
    "    selected_x,selected_y = [],[]\n",
    "    for i in range(10):\n",
    "        number_index = np.where(y_train == i)[0]\n",
    "        random_index = np.random.choice(len(number_index),1,replace=False)\n",
    "        select_index = number_index[random_index]\n",
    "        selected_x.append(x_train[select_index[0]])\n",
    "        selected_y.append(y_train[select_index][0])\n",
    "    return np.array(selected_x,dtype=\"float32\").reshape((len(selected_x),)+image_shape),np.array(selected_y,dtype=\"float32\")"
   ]
  },
  {
   "cell_type": "code",
   "execution_count": 6,
   "id": "d1088892",
   "metadata": {},
   "outputs": [],
   "source": [
    "selected_x,selected_y =  get_10_image(x_train,y_train)"
   ]
  },
  {
   "cell_type": "code",
   "execution_count": 7,
   "id": "0bf787da",
   "metadata": {},
   "outputs": [
    {
     "name": "stdout",
     "output_type": "stream",
     "text": [
      "(10, 28, 28, 1)\n",
      "(10,)\n"
     ]
    }
   ],
   "source": [
    "print(selected_x.shape) # 10 images of 28 x 28\n",
    "print(selected_y.shape) # 10 labels for each corresponding image"
   ]
  },
  {
   "cell_type": "code",
   "execution_count": 8,
   "id": "d37cc9e3",
   "metadata": {},
   "outputs": [],
   "source": [
    "def plot_image(selected_x,selected_y,title=None,save=None):\n",
    "    ncols = selected_x.shape[0]\n",
    "    fig,ax  = plt.subplots(nrows=1, ncols=ncols,figsize=(20,3))\n",
    "    for x,y,ax_i in zip(selected_x,selected_y,ax):\n",
    "        ax_i.imshow(x.reshape((28,28)))\n",
    "        ax_i.axis(\"off\")\n",
    "        ax_i.set_title(int(y))\n",
    "    if title:\n",
    "        fig.suptitle(title)\n",
    "    if save:\n",
    "        fig.savefig(str(save)+\".png\")\n",
    "    plt.show()"
   ]
  },
  {
   "cell_type": "code",
   "execution_count": 9,
   "id": "ce09237d",
   "metadata": {},
   "outputs": [
    {
     "data": {
      "image/png": "[encoded data removed]",
      "text/plain": [
       "<Figure size 1440x216 with 10 Axes>"
      ]
     },
     "metadata": {
      "needs_background": "light"
     },
     "output_type": "display_data"
    }
   ],
   "source": [
    "plot_image(selected_x,selected_y,title=\"initial image\",save=\"initial image\")"
   ]
  },
  {
   "cell_type": "markdown",
   "id": "f52c4245",
   "metadata": {},
   "source": [
    "## Encoder"
   ]
  },
  {
   "cell_type": "code",
   "execution_count": 10,
   "id": "a3b82389",
   "metadata": {},
   "outputs": [
    {
     "name": "stderr",
     "output_type": "stream",
     "text": [
      "2023-01-11 17:58:44.968296: I tensorflow/core/platform/cpu_feature_guard.cc:145] This TensorFlow binary is optimized with Intel(R) MKL-DNN to use the following CPU instructions in performance critical operations:  SSE4.1 SSE4.2\n",
      "To enable them in non-MKL-DNN operations, rebuild TensorFlow with the appropriate compiler flags.\n",
      "2023-01-11 17:58:44.968610: I tensorflow/core/common_runtime/process_util.cc:115] Creating new thread pool with default inter op setting: 8. Tune using inter_op_parallelism_threads for best performance.\n"
     ]
    }
   ],
   "source": [
    "# input shape = (None,28,28,1)\n",
    "encoder_input = keras.Input(shape=image_shape)\n",
    "\n",
    "# input shape = (None,28,28,1)\n",
    "# output shape = (None,28,28,32)\n",
    "conv_1 = keras.layers.Conv2D(filters=32,\n",
    "                             kernel_size=3,\n",
    "                             padding=\"same\",\n",
    "                             activation=\"relu\",\n",
    "                            )(encoder_input)\n",
    "\n",
    "# input shape = (None,28,28,32)\n",
    "# output shape = (None,28,28,64)\n",
    "conv_2 = keras.layers.Conv2D(filters=64,\n",
    "                             kernel_size=3,\n",
    "                             padding=\"same\",\n",
    "                             activation=\"relu\",\n",
    "                            )(conv_1)\n",
    "\n",
    "# input shape = (None,28,28,64)\n",
    "# output shape = (None,28,28,64)\n",
    "conv_3 = keras.layers.Conv2D(filters=64,\n",
    "                             kernel_size=3,\n",
    "                             padding=\"same\",\n",
    "                             activation=\"relu\",\n",
    "                            )(conv_2)\n",
    "\n",
    "# input shape = (None,28,28,64)\n",
    "# output shape = (None,50176)\n",
    "flatten = keras.layers.Flatten()(conv_3)\n",
    "\n",
    "# input shape = (None,50176)\n",
    "# output shape = (None,128)\n",
    "encoder_output = keras.layers.Dense(128,activation=\"relu\")(flatten)"
   ]
  },
  {
   "cell_type": "markdown",
   "id": "4b866973",
   "metadata": {},
   "source": [
    "## Latent Space "
   ]
  },
  {
   "cell_type": "code",
   "execution_count": 11,
   "id": "08bd1c00",
   "metadata": {},
   "outputs": [],
   "source": [
    "# input shape = (None,128)\n",
    "# output shape = (None,latent_dim)\n",
    "z_mu = keras.layers.Dense(latent_dim)(encoder_output)\n",
    "\n",
    "# input shape = (None,128)\n",
    "# output shape = (None,latent_dim)\n",
    "z_log_sigma = keras.layers.Dense(latent_dim)(encoder_output)"
   ]
  },
  {
   "cell_type": "code",
   "execution_count": 12,
   "id": "185967ea",
   "metadata": {},
   "outputs": [],
   "source": [
    "def sampling(args):\n",
    "    z_mean, z_log_sigma = args\n",
    "    epsilon = k.random_normal(shape=(k.shape(z_mean)[0], latent_dim),\n",
    "                              mean=0., stddev=0.1)\n",
    "    return z_mean + k.exp(z_log_sigma) * epsilon"
   ]
  },
  {
   "cell_type": "code",
   "execution_count": 13,
   "id": "35790214",
   "metadata": {},
   "outputs": [],
   "source": [
    "z = keras.layers.Lambda(sampling,output_shape=(latent_dim,))([z_mu, z_log_sigma])"
   ]
  },
  {
   "cell_type": "markdown",
   "id": "5993dd74",
   "metadata": {},
   "source": [
    "## Decoder"
   ]
  },
  {
   "cell_type": "code",
   "execution_count": 16,
   "id": "fe5c4d12",
   "metadata": {},
   "outputs": [],
   "source": [
    "# input shape = (None,latent_dim)\n",
    "# output shape = (None,128)\n",
    "dense_2 = keras.layers.Dense(128,activation=\"relu\")\n",
    "\n",
    "# input shape = (None,128)\n",
    "# output shape = (None,50176)\n",
    "dense_3 = keras.layers.Dense(np.prod(k.int_shape(conv_3)[1:]),activation=\"relu\")\n",
    "\n",
    "# Reshape layer\n",
    "# input shape = (None,128)\n",
    "# output shape = (None,28,28,64)\n",
    "reshape = keras.layers.Reshape(k.int_shape(conv_3)[1:])\n",
    "\n",
    "# Deconvolutional layer 1\n",
    "# input shape = (None,28,28,64)\n",
    "# output shape = (None,28,28,64)\n",
    "conv_4 = keras.layers.Conv2DTranspose(filters=64,\n",
    "                                      kernel_size=3,\n",
    "                                      padding=\"same\",\n",
    "                                      activation=\"relu\"\n",
    "                                     )\n",
    "\n",
    "# Deconvolutional layer 2\n",
    "# input shape = (None,28,28,64)\n",
    "# output shape = (None,28,28,64)\n",
    "conv_5 = keras.layers.Conv2DTranspose(filters=64,\n",
    "                                      kernel_size=3,\n",
    "                                      padding=\"same\",\n",
    "                                      activation=\"relu\"\n",
    "                                     )\n",
    "\n",
    "# Deconvolutional layer 3\n",
    "# input shape = (None,28,28,64)\n",
    "# output shape = (None,28,28,32)\n",
    "conv_6 = keras.layers.Conv2DTranspose(filters=32,\n",
    "                                      kernel_size=3,\n",
    "                                      padding=\"same\",\n",
    "                                      activation=\"relu\"\n",
    "                                     )\n",
    "\n",
    "# convolutional layer 4\n",
    "# input shape = (None,28,28,32)\n",
    "# output shape = (None,28,28,1)\n",
    "decoder_output = keras.layers.Conv2D(filters=1,\n",
    "                                     kernel_size=3,\n",
    "                                     padding=\"same\",\n",
    "                                     activation=\"sigmoid\"\n",
    "                                    )\n",
    "_dense_2 = dense_2(z)\n",
    "_dense_3 = dense_3(_dense_2)\n",
    "_reshape = reshape(_dense_3)\n",
    "_conv_4 = conv_4(_reshape)\n",
    "_conv_5 = conv_5(_conv_4)\n",
    "_conv_6 = conv_6(_conv_5)\n",
    "_decoder_output = decoder_output(_conv_6)"
   ]
  },
  {
   "cell_type": "code",
   "execution_count": null,
   "id": "67790941",
   "metadata": {},
   "outputs": [],
   "source": []
  }
 ],
 "metadata": {
  "kernelspec": {
   "display_name": "Python 3 (ipykernel)",
   "language": "python",
   "name": "python3"
  },
  "language_info": {
   "codemirror_mode": {
    "name": "ipython",
    "version": 3
   },
   "file_extension": ".py",
   "mimetype": "text/x-python",
   "name": "python",
   "nbconvert_exporter": "python",
   "pygments_lexer": "ipython3",
   "version": "3.7.10"
  }
 },
 "nbformat": 4,
 "nbformat_minor": 5
}
